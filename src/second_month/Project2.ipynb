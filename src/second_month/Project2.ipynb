{
  "nbformat": 4,
  "nbformat_minor": 0,
  "metadata": {
    "colab": {
      "name": "Project2.ipynb",
      "provenance": [],
      "collapsed_sections": []
    },
    "kernelspec": {
      "display_name": "Python 3",
      "name": "python3"
    },
    "language_info": {
      "name": "python"
    }
  },
  "cells": [
    {
      "cell_type": "code",
      "metadata": {
        "id": "tFHl-kNqe0eq"
      },
      "source": [
        "import pandas as pd\n",
        "import numpy as np\n",
        "import matplotlib.pyplot as plt\n",
        "import csv\n",
        "df= pd.read_csv(\"Other/Data_Project_2.csv\", thousands='.')\n",
        "\n"
      ],
      "execution_count": 325,
      "outputs": []
    },
    {
      "cell_type": "code",
      "metadata": {
        "id": "bS2rUSOzg4hh"
      },
      "source": [
        "df[\"number\"] = df[\"number\"].replace(0, np.nan)\n",
        "df = df.dropna()"
      ],
      "execution_count": 326,
      "outputs": []
    },
    {
      "cell_type": "code",
      "metadata": {
        "id": "lqcOue1W-7vp"
      },
      "source": [
        "translation = {'Janeiro': 'January', 'Fevereiro': 'February', 'Março': 'March', 'Abril': 'April', 'Maio': 'May',\n",
        "               'Junho': 'June', 'Julho': 'July', 'Agosto': 'August', 'Setembro': 'September', 'Outubro': 'October',\n",
        "               'Novembro': 'November', 'Dezembro': 'December'}\n",
        "\n",
        "df['month'] = df['month'].map(translation)"
      ],
      "execution_count": 327,
      "outputs": []
    },
    {
      "cell_type": "code",
      "metadata": {
        "id": "gxGsiai3oK_R"
      },
      "source": [
        "a=df.groupby(['year'])['number'].sum()\n"
      ],
      "execution_count": 328,
      "outputs": []
    },
    {
      "cell_type": "code",
      "metadata": {
        "colab": {
          "base_uri": "https://localhost:8080/",
          "height": 311
        },
        "id": "S212BQr5_AI6",
        "outputId": "2bf0a494-cb48-4324-8253-d3ab2452f49d"
      },
      "source": [
        "# Graph by years\n",
        "\n",
        "a.plot.bar()\n",
        "plt.title(\"Amazon Fires by Years\")\n",
        "plt.show()"
      ],
      "execution_count": 329,
      "outputs": [
        {
          "output_type": "display_data",
          "data": {
            "image/png": "[encoded data removed]",
            "text/plain": [
              "<Figure size 432x288 with 1 Axes>"
            ]
          },
          "metadata": {
            "tags": [],
            "needs_background": "light"
          }
        }
      ]
    },
    {
      "cell_type": "code",
      "metadata": {
        "colab": {
          "base_uri": "https://localhost:8080/"
        },
        "id": "DT5w1zmHsmkO",
        "outputId": "6653b563-8612-442d-ff3a-a22f769a2d3f"
      },
      "source": [
        "c = df.groupby(['month'])['number'].sum()\n",
        "c = c.reindex([\"January\", \"February\", \"March\", \"April\", \"May\", \"June\", \"July\", \"August\", \"September\", \"October\",\n",
        "               \"November\", \"December\"])\n",
        "c"
      ],
      "execution_count": 330,
      "outputs": [
        {
          "output_type": "execute_result",
          "data": {
            "text/plain": [
              "month\n",
              "January        52587.0\n",
              "February       30952.0\n",
              "March          35118.0\n",
              "April          28364.0\n",
              "May            46083.0\n",
              "June          111405.0\n",
              "July          217620.0\n",
              "August        740841.0\n",
              "September    1015925.0\n",
              "October       629665.0\n",
              "November      313383.0\n",
              "December      154145.0\n",
              "Name: number, dtype: float64"
            ]
          },
          "metadata": {
            "tags": []
          },
          "execution_count": 330
        }
      ]
    },
    {
      "cell_type": "code",
      "metadata": {
        "colab": {
          "base_uri": "https://localhost:8080/",
          "height": 340
        },
        "id": "lH1jLOKX_TS8",
        "outputId": "1f33e265-716d-4b9f-aa04-128b0c586485"
      },
      "source": [
        "c.plot.bar()  \n",
        "plt.title(\"Amazon Fires by Months\") \n",
        "plt.show()\n"
      ],
      "execution_count": 331,
      "outputs": [
        {
          "output_type": "display_data",
          "data": {
            "image/png": "[encoded data removed]",
            "text/plain": [
              "<Figure size 432x288 with 1 Axes>"
            ]
          },
          "metadata": {
            "tags": [],
            "needs_background": "light"
          }
        }
      ]
    }
  ]
}