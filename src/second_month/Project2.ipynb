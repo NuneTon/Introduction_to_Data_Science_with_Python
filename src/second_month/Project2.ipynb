{
  "nbformat": 4,
  "nbformat_minor": 0,
  "metadata": {
    "colab": {
      "name": "Project2.ipynb",
      "provenance": []
    },
    "kernelspec": {
      "name": "python3",
      "display_name": "Python 3"
    },
    "language_info": {
      "name": "python"
    }
  },
  "cells": [
    {
      "cell_type": "code",
      "metadata": {
        "colab": {
          "base_uri": "https://localhost:8080/"
        },
        "id": "tFHl-kNqe0eq",
        "outputId": "905afdbf-4406-47c1-ee41-a8c0064fc732"
      },
      "source": [
        "print(\"Nune\")"
      ],
      "execution_count": 3,
      "outputs": [
        {
          "output_type": "stream",
          "text": [
            "Nune\n"
          ],
          "name": "stdout"
        }
      ]
    }
  ]
}