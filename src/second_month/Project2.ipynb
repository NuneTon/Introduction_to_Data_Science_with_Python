{
  "nbformat": 4,
  "nbformat_minor": 0,
  "metadata": {
    "colab": {
      "name": "Project2.ipynb",
      "provenance": [],
      "collapsed_sections": []
    },
    "kernelspec": {
      "display_name": "Python 3",
      "name": "python3"
    },
    "language_info": {
      "name": "python"
    }
  },
  "cells": [
    {
      "cell_type": "code",
      "metadata": {
        "id": "tFHl-kNqe0eq"
      },
      "source": [
        "import pandas as pd\n",
        "import numpy as np\n",
        "import matplotlib.pyplot as plt\n",
        "import csv\n",
        "def read_file(path):\n",
        "  df = pd.read_csv(path, thousands='.')\n",
        "\n"
      ],
      "execution_count": 69,
      "outputs": []
    },
    {
      "cell_type": "code",
      "metadata": {
        "id": "bS2rUSOzg4hh"
      },
      "source": [
        "def data_cleaning(column):\n",
        "  df[column] = df[column].replace(0, np.nan)\n",
        "  #df = df.dropna()"
      ],
      "execution_count": 70,
      "outputs": []
    },
    {
      "cell_type": "code",
      "metadata": {
        "id": "lqcOue1W-7vp"
      },
      "source": [
        "translation = {'Janeiro': 'January', 'Fevereiro': 'February', 'Março': 'March', 'Abril': 'April', 'Maio': 'May',\n",
        "               'Junho': 'June', 'Julho': 'July', 'Agosto': 'August', 'Setembro': 'September', 'Outubro': 'October',\n",
        "               'Novembro': 'November', 'Dezembro': 'December'}\n",
        "def translate(dict):\n",
        "  df['month'] = df['month'].map(dict)"
      ],
      "execution_count": 71,
      "outputs": []
    },
    {
      "cell_type": "code",
      "metadata": {
        "id": "S212BQr5_AI6"
      },
      "source": [
        "a = pd.Series(df[\"number\"], index=df[\"year\"])\n",
        "# Graph by years\n",
        "def graph_by_years(series):\n",
        "  series.plot.bar()\n",
        "  plt.title(\"Amazon Fires by Years\")\n",
        "  plt.show()"
      ],
      "execution_count": 72,
      "outputs": []
    },
    {
      "cell_type": "code",
      "metadata": {
        "id": "lH1jLOKX_TS8"
      },
      "source": [
        "# Graph by months\n",
        "def graph_by_months(series):\n",
        "  series.plot.bar()  \n",
        "  plt.title(\"Amazon Fires by Months\") \n",
        "  plt.show()\n"
      ],
      "execution_count": 73,
      "outputs": []
    },
    {
      "cell_type": "code",
      "metadata": {
        "id": "BEf79fcw_pLE"
      },
      "source": [
        "def groupby_and_reindex():\n",
        "  c = df.groupby(['month'])['number'].sum()\n",
        "  c = c.reindex([\"January\", \"February\", \"March\", \"April\", \"May\", \"June\", \"July\", \"August\", \"September\", \"October\",\n",
        "               \"November\", \"December\"])\n",
        "  c"
      ],
      "execution_count": 74,
      "outputs": []
    },
    {
      "cell_type": "code",
      "metadata": {
        "colab": {
          "base_uri": "https://localhost:8080/",
          "height": 634
        },
        "id": "ZFg4mZyR8elF",
        "outputId": "e16435a8-baad-4444-fb87-2876186cfce3"
      },
      "source": [
        "def main():\n",
        "  read_file(\"Other/Data_Project_2.csv\")\n",
        "  data_cleaning(\"number\")\n",
        "  translate(translation)\n",
        "  graph_by_years(a)\n",
        "  groupby_and_reindex()\n",
        "  graph_by_months(c)\n",
        "\n",
        "main()\n",
        "\n"
      ],
      "execution_count": 75,
      "outputs": [
        {
          "output_type": "display_data",
          "data": {
            "image/png": "[encoded data removed]",
            "text/plain": [
              "<Figure size 432x288 with 1 Axes>"
            ]
          },
          "metadata": {
            "tags": [],
            "needs_background": "light"
          }
        },
        {
          "output_type": "display_data",
          "data": {
            "image/png": "[encoded data removed]",
            "text/plain": [
              "<Figure size 432x288 with 1 Axes>"
            ]
          },
          "metadata": {
            "tags": [],
            "needs_background": "light"
          }
        }
      ]
    }
  ]
}