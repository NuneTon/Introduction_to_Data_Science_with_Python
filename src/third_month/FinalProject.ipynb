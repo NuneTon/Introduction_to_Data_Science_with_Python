{
  "nbformat": 4,
  "nbformat_minor": 0,
  "metadata": {
    "colab": {
      "name": "FinalProject.ipynb",
      "provenance": [],
      "collapsed_sections": []
    },
    "kernelspec": {
      "name": "python3",
      "display_name": "Python 3"
    },
    "language_info": {
      "name": "python"
    }
  },
  "cells": [
    {
      "cell_type": "code",
      "metadata": {
        "id": "zEbBl6d5rpV6"
      },
      "source": [
        "import numpy as np\n",
        "import pandas as pd\n",
        "import matplotlib.pyplot as plt\n",
        "from sklearn.model_selection import train_test_split\n",
        "from sklearn.model_selection import GridSearchCV\n",
        "from sklearn.model_selection import cross_val_predict\n",
        "from sklearn.linear_model import LogisticRegression\n",
        "from sklearn.linear_model import SGDClassifier\n",
        "from sklearn.svm import SVC\n",
        "from sklearn import decomposition\n",
        "from sklearn.metrics import accuracy_score\n",
        "from sklearn.metrics import confusion_matrix\n",
        "from sklearn.pipeline import Pipeline\n",
        "from sklearn.preprocessing import StandardScaler"
      ],
      "execution_count": null,
      "outputs": []
    },
    {
      "cell_type": "markdown",
      "metadata": {
        "id": "BWJjAoFl-Xqa"
      },
      "source": [
        "1) Reading data from csv file"
      ]
    },
    {
      "cell_type": "code",
      "metadata": {
        "colab": {
          "base_uri": "https://localhost:8080/",
          "height": 204
        },
        "id": "qRwwqD-Ws3lR",
        "outputId": "e41a2720-1239-4217-f0ac-718e22a1f963"
      },
      "source": [
        "data=pd.read_csv(\"data/StudentsPerformance.csv\")\n",
        "data.head()"
      ],
      "execution_count": null,
      "outputs": [
        {
          "output_type": "execute_result",
          "data": {
            "text/html": [
              "<div>\n",
              "<style scoped>\n",
              "    .dataframe tbody tr th:only-of-type {\n",
              "        vertical-align: middle;\n",
              "    }\n",
              "\n",
              "    .dataframe tbody tr th {\n",
              "        vertical-align: top;\n",
              "    }\n",
              "\n",
              "    .dataframe thead th {\n",
              "        text-align: right;\n",
              "    }\n",
              "</style>\n",
              "<table border=\"1\" class=\"dataframe\">\n",
              "  <thead>\n",
              "    <tr style=\"text-align: right;\">\n",
              "      <th></th>\n",
              "      <th>gender</th>\n",
              "      <th>race/ethnicity</th>\n",
              "      <th>parental level of education</th>\n",
              "      <th>lunch</th>\n",
              "      <th>test preparation course</th>\n",
              "      <th>math score</th>\n",
              "      <th>reading score</th>\n",
              "      <th>writing score</th>\n",
              "    </tr>\n",
              "  </thead>\n",
              "  <tbody>\n",
              "    <tr>\n",
              "      <th>0</th>\n",
              "      <td>female</td>\n",
              "      <td>group B</td>\n",
              "      <td>bachelor's degree</td>\n",
              "      <td>standard</td>\n",
              "      <td>none</td>\n",
              "      <td>72</td>\n",
              "      <td>72</td>\n",
              "      <td>74</td>\n",
              "    </tr>\n",
              "    <tr>\n",
              "      <th>1</th>\n",
              "      <td>female</td>\n",
              "      <td>group C</td>\n",
              "      <td>some college</td>\n",
              "      <td>standard</td>\n",
              "      <td>completed</td>\n",
              "      <td>69</td>\n",
              "      <td>90</td>\n",
              "      <td>88</td>\n",
              "    </tr>\n",
              "    <tr>\n",
              "      <th>2</th>\n",
              "      <td>female</td>\n",
              "      <td>group B</td>\n",
              "      <td>master's degree</td>\n",
              "      <td>standard</td>\n",
              "      <td>none</td>\n",
              "      <td>90</td>\n",
              "      <td>95</td>\n",
              "      <td>93</td>\n",
              "    </tr>\n",
              "    <tr>\n",
              "      <th>3</th>\n",
              "      <td>male</td>\n",
              "      <td>group A</td>\n",
              "      <td>associate's degree</td>\n",
              "      <td>free/reduced</td>\n",
              "      <td>none</td>\n",
              "      <td>47</td>\n",
              "      <td>57</td>\n",
              "      <td>44</td>\n",
              "    </tr>\n",
              "    <tr>\n",
              "      <th>4</th>\n",
              "      <td>male</td>\n",
              "      <td>group C</td>\n",
              "      <td>some college</td>\n",
              "      <td>standard</td>\n",
              "      <td>none</td>\n",
              "      <td>76</td>\n",
              "      <td>78</td>\n",
              "      <td>75</td>\n",
              "    </tr>\n",
              "  </tbody>\n",
              "</table>\n",
              "</div>"
            ],
            "text/plain": [
              "   gender race/ethnicity  ... reading score writing score\n",
              "0  female        group B  ...            72            74\n",
              "1  female        group C  ...            90            88\n",
              "2  female        group B  ...            95            93\n",
              "3    male        group A  ...            57            44\n",
              "4    male        group C  ...            78            75\n",
              "\n",
              "[5 rows x 8 columns]"
            ]
          },
          "metadata": {
            "tags": []
          },
          "execution_count": 150
        }
      ]
    },
    {
      "cell_type": "code",
      "metadata": {
        "colab": {
          "base_uri": "https://localhost:8080/"
        },
        "id": "zMU5PbqcMQ8K",
        "outputId": "2158afb2-2481-4b23-aad0-30eaecda8327"
      },
      "source": [
        "data.dtypes"
      ],
      "execution_count": null,
      "outputs": [
        {
          "output_type": "execute_result",
          "data": {
            "text/plain": [
              "gender                         object\n",
              "race/ethnicity                 object\n",
              "parental level of education    object\n",
              "lunch                          object\n",
              "test preparation course        object\n",
              "math score                      int64\n",
              "reading score                   int64\n",
              "writing score                   int64\n",
              "dtype: object"
            ]
          },
          "metadata": {
            "tags": []
          },
          "execution_count": 151
        }
      ]
    },
    {
      "cell_type": "markdown",
      "metadata": {
        "id": "XGQW4PQS6zcR"
      },
      "source": [
        "2) Grouping by features and Visualization data"
      ]
    },
    {
      "cell_type": "code",
      "metadata": {
        "colab": {
          "base_uri": "https://localhost:8080/",
          "height": 142
        },
        "id": "KtvKwlJr4GQ9",
        "outputId": "e31fb47d-82b5-4e91-cbed-db7d0e5e0690"
      },
      "source": [
        "genders = data.groupby(['gender']).count()\n",
        "genders"
      ],
      "execution_count": null,
      "outputs": [
        {
          "output_type": "execute_result",
          "data": {
            "text/html": [
              "<div>\n",
              "<style scoped>\n",
              "    .dataframe tbody tr th:only-of-type {\n",
              "        vertical-align: middle;\n",
              "    }\n",
              "\n",
              "    .dataframe tbody tr th {\n",
              "        vertical-align: top;\n",
              "    }\n",
              "\n",
              "    .dataframe thead th {\n",
              "        text-align: right;\n",
              "    }\n",
              "</style>\n",
              "<table border=\"1\" class=\"dataframe\">\n",
              "  <thead>\n",
              "    <tr style=\"text-align: right;\">\n",
              "      <th></th>\n",
              "      <th>race/ethnicity</th>\n",
              "      <th>parental level of education</th>\n",
              "      <th>lunch</th>\n",
              "      <th>test preparation course</th>\n",
              "      <th>math score</th>\n",
              "      <th>reading score</th>\n",
              "      <th>writing score</th>\n",
              "    </tr>\n",
              "    <tr>\n",
              "      <th>gender</th>\n",
              "      <th></th>\n",
              "      <th></th>\n",
              "      <th></th>\n",
              "      <th></th>\n",
              "      <th></th>\n",
              "      <th></th>\n",
              "      <th></th>\n",
              "    </tr>\n",
              "  </thead>\n",
              "  <tbody>\n",
              "    <tr>\n",
              "      <th>female</th>\n",
              "      <td>518</td>\n",
              "      <td>518</td>\n",
              "      <td>518</td>\n",
              "      <td>518</td>\n",
              "      <td>518</td>\n",
              "      <td>518</td>\n",
              "      <td>518</td>\n",
              "    </tr>\n",
              "    <tr>\n",
              "      <th>male</th>\n",
              "      <td>482</td>\n",
              "      <td>482</td>\n",
              "      <td>482</td>\n",
              "      <td>482</td>\n",
              "      <td>482</td>\n",
              "      <td>482</td>\n",
              "      <td>482</td>\n",
              "    </tr>\n",
              "  </tbody>\n",
              "</table>\n",
              "</div>"
            ],
            "text/plain": [
              "        race/ethnicity  ...  writing score\n",
              "gender                  ...               \n",
              "female             518  ...            518\n",
              "male               482  ...            482\n",
              "\n",
              "[2 rows x 7 columns]"
            ]
          },
          "metadata": {
            "tags": []
          },
          "execution_count": 152
        }
      ]
    },
    {
      "cell_type": "code",
      "metadata": {
        "colab": {
          "base_uri": "https://localhost:8080/",
          "height": 321
        },
        "id": "DigfQ6s7486z",
        "outputId": "c8515a4f-c09a-410b-c7b4-81a7125fd96e"
      },
      "source": [
        "genders_df=pd.DataFrame(data={'gender':['female','male'], 'counts':genders[\"lunch\"]})\n",
        "genders_df.plot.bar(x=\"gender\", y=\"counts\", rot=70, title=\"Number of students by gender\")\n",
        "plt.show()"
      ],
      "execution_count": null,
      "outputs": [
        {
          "output_type": "display_data",
          "data": {
            "image/png": "[encoded data removed]",
            "text/plain": [
              "<Figure size 432x288 with 1 Axes>"
            ]
          },
          "metadata": {
            "tags": [],
            "needs_background": "light"
          }
        }
      ]
    },
    {
      "cell_type": "code",
      "metadata": {
        "colab": {
          "base_uri": "https://localhost:8080/",
          "height": 267
        },
        "id": "hXi9zJTGtaPc",
        "outputId": "33453938-6fa4-451b-9138-38805173a4e1"
      },
      "source": [
        "race_df = data.groupby(['race/ethnicity']).count()\n",
        "race=[\"group A\",\"group B\",\"group C\",\"group D\",\"group D\"]\n",
        "qty=race_df['gender']\n",
        "plt.pie(qty,labels=race,autopct='%1.1f%%')\n",
        "plt.title('Race structure')\n",
        "plt.axis('equal')\n",
        "plt.show()"
      ],
      "execution_count": null,
      "outputs": [
        {
          "output_type": "display_data",
          "data": {
            "image/png": "[encoded data removed]",
            "text/plain": [
              "<Figure size 432x288 with 1 Axes>"
            ]
          },
          "metadata": {
            "tags": []
          }
        }
      ]
    },
    {
      "cell_type": "markdown",
      "metadata": {
        "id": "-pn9Ji51-ItG"
      },
      "source": [
        "3) Data Processing"
      ]
    },
    {
      "cell_type": "code",
      "metadata": {
        "colab": {
          "base_uri": "https://localhost:8080/",
          "height": 282
        },
        "id": "4gmSrQ5t-TyA",
        "outputId": "15331124-8b26-452d-9573-5d8113360d6e"
      },
      "source": [
        "data[\"total_score\"]=data['math score'] + data['reading score'] + data['writing score']\n",
        "data[\"average_score\"]=data[\"total_score\"]/3\n",
        "data[\"average_score\"]\n",
        "data[\"average_score\"].hist()"
      ],
      "execution_count": null,
      "outputs": [
        {
          "output_type": "execute_result",
          "data": {
            "text/plain": [
              "<matplotlib.axes._subplots.AxesSubplot at 0x7faff3b44090>"
            ]
          },
          "metadata": {
            "tags": []
          },
          "execution_count": 155
        },
        {
          "output_type": "display_data",
          "data": {
            "image/png": "[encoded data removed]",
            "text/plain": [
              "<Figure size 432x288 with 1 Axes>"
            ]
          },
          "metadata": {
            "tags": [],
            "needs_background": "light"
          }
        }
      ]
    },
    {
      "cell_type": "code",
      "metadata": {
        "colab": {
          "base_uri": "https://localhost:8080/",
          "height": 221
        },
        "id": "LmeinthiQbjd",
        "outputId": "fe11efc9-9beb-4e27-87d6-ef2c67211923"
      },
      "source": [
        "def success(average_score):\n",
        "    if(average_score >= 70):\n",
        "        return 'passed'\n",
        "    else :\n",
        "        return 'failed'\n",
        "data['success'] = data.apply(lambda g: success(g['average_score']), axis = 1)\n",
        "data.head()"
      ],
      "execution_count": null,
      "outputs": [
        {
          "output_type": "execute_result",
          "data": {
            "text/html": [
              "<div>\n",
              "<style scoped>\n",
              "    .dataframe tbody tr th:only-of-type {\n",
              "        vertical-align: middle;\n",
              "    }\n",
              "\n",
              "    .dataframe tbody tr th {\n",
              "        vertical-align: top;\n",
              "    }\n",
              "\n",
              "    .dataframe thead th {\n",
              "        text-align: right;\n",
              "    }\n",
              "</style>\n",
              "<table border=\"1\" class=\"dataframe\">\n",
              "  <thead>\n",
              "    <tr style=\"text-align: right;\">\n",
              "      <th></th>\n",
              "      <th>gender</th>\n",
              "      <th>race/ethnicity</th>\n",
              "      <th>parental level of education</th>\n",
              "      <th>lunch</th>\n",
              "      <th>test preparation course</th>\n",
              "      <th>math score</th>\n",
              "      <th>reading score</th>\n",
              "      <th>writing score</th>\n",
              "      <th>total_score</th>\n",
              "      <th>average_score</th>\n",
              "      <th>success</th>\n",
              "    </tr>\n",
              "  </thead>\n",
              "  <tbody>\n",
              "    <tr>\n",
              "      <th>0</th>\n",
              "      <td>female</td>\n",
              "      <td>group B</td>\n",
              "      <td>bachelor's degree</td>\n",
              "      <td>standard</td>\n",
              "      <td>none</td>\n",
              "      <td>72</td>\n",
              "      <td>72</td>\n",
              "      <td>74</td>\n",
              "      <td>218</td>\n",
              "      <td>72.666667</td>\n",
              "      <td>passed</td>\n",
              "    </tr>\n",
              "    <tr>\n",
              "      <th>1</th>\n",
              "      <td>female</td>\n",
              "      <td>group C</td>\n",
              "      <td>some college</td>\n",
              "      <td>standard</td>\n",
              "      <td>completed</td>\n",
              "      <td>69</td>\n",
              "      <td>90</td>\n",
              "      <td>88</td>\n",
              "      <td>247</td>\n",
              "      <td>82.333333</td>\n",
              "      <td>passed</td>\n",
              "    </tr>\n",
              "    <tr>\n",
              "      <th>2</th>\n",
              "      <td>female</td>\n",
              "      <td>group B</td>\n",
              "      <td>master's degree</td>\n",
              "      <td>standard</td>\n",
              "      <td>none</td>\n",
              "      <td>90</td>\n",
              "      <td>95</td>\n",
              "      <td>93</td>\n",
              "      <td>278</td>\n",
              "      <td>92.666667</td>\n",
              "      <td>passed</td>\n",
              "    </tr>\n",
              "    <tr>\n",
              "      <th>3</th>\n",
              "      <td>male</td>\n",
              "      <td>group A</td>\n",
              "      <td>associate's degree</td>\n",
              "      <td>free/reduced</td>\n",
              "      <td>none</td>\n",
              "      <td>47</td>\n",
              "      <td>57</td>\n",
              "      <td>44</td>\n",
              "      <td>148</td>\n",
              "      <td>49.333333</td>\n",
              "      <td>failed</td>\n",
              "    </tr>\n",
              "    <tr>\n",
              "      <th>4</th>\n",
              "      <td>male</td>\n",
              "      <td>group C</td>\n",
              "      <td>some college</td>\n",
              "      <td>standard</td>\n",
              "      <td>none</td>\n",
              "      <td>76</td>\n",
              "      <td>78</td>\n",
              "      <td>75</td>\n",
              "      <td>229</td>\n",
              "      <td>76.333333</td>\n",
              "      <td>passed</td>\n",
              "    </tr>\n",
              "  </tbody>\n",
              "</table>\n",
              "</div>"
            ],
            "text/plain": [
              "   gender race/ethnicity  ... average_score success\n",
              "0  female        group B  ...     72.666667  passed\n",
              "1  female        group C  ...     82.333333  passed\n",
              "2  female        group B  ...     92.666667  passed\n",
              "3    male        group A  ...     49.333333  failed\n",
              "4    male        group C  ...     76.333333  passed\n",
              "\n",
              "[5 rows x 11 columns]"
            ]
          },
          "metadata": {
            "tags": []
          },
          "execution_count": 156
        }
      ]
    },
    {
      "cell_type": "code",
      "metadata": {
        "id": "Z9x0uzur3LN6"
      },
      "source": [
        "def grades(average_score):\n",
        "    if(average_score >= 90):\n",
        "        return 'A'\n",
        "    if(average_score >= 80):\n",
        "        return 'B'\n",
        "    if(average_score >= 70):\n",
        "        return 'C'\n",
        "    if(average_score >= 60):\n",
        "        return 'D'\n",
        "    if(average_score >= 40):\n",
        "        return 'E'\n",
        "    else :\n",
        "        return 'F'\n",
        "\n",
        "data['grades'] = data.apply(lambda a: grades(a['average_score']), axis = 1)"
      ],
      "execution_count": null,
      "outputs": []
    },
    {
      "cell_type": "code",
      "metadata": {
        "colab": {
          "base_uri": "https://localhost:8080/",
          "height": 295
        },
        "id": "ue7wcFYi4YRK",
        "outputId": "b541dc63-bd72-477e-88a2-817bf912d475"
      },
      "source": [
        "grades = data.groupby(['grades']).count()\n",
        "grades_df=pd.DataFrame(data={'grades':['A','B','C','D','E','F'], 'counts':grades[\"lunch\"]})\n",
        "grades_df.plot.bar(x=\"grades\", y=\"counts\",rot=0, title=\"Number of students by grades\")\n",
        "plt.show()\n"
      ],
      "execution_count": null,
      "outputs": [
        {
          "output_type": "display_data",
          "data": {
            "image/png": "[encoded data removed]",
            "text/plain": [
              "<Figure size 432x288 with 1 Axes>"
            ]
          },
          "metadata": {
            "tags": [],
            "needs_background": "light"
          }
        }
      ]
    },
    {
      "cell_type": "markdown",
      "metadata": {
        "id": "a1Ho1emfK698"
      },
      "source": [
        "4) Data Encoding"
      ]
    },
    {
      "cell_type": "code",
      "metadata": {
        "colab": {
          "base_uri": "https://localhost:8080/",
          "height": 66
        },
        "id": "0UGauaHvPDb4",
        "outputId": "861005c3-fd4c-4aa3-ec2a-25592762d56d"
      },
      "source": [
        "data[data.isnull().any(axis=1)]"
      ],
      "execution_count": null,
      "outputs": [
        {
          "output_type": "execute_result",
          "data": {
            "text/html": [
              "<div>\n",
              "<style scoped>\n",
              "    .dataframe tbody tr th:only-of-type {\n",
              "        vertical-align: middle;\n",
              "    }\n",
              "\n",
              "    .dataframe tbody tr th {\n",
              "        vertical-align: top;\n",
              "    }\n",
              "\n",
              "    .dataframe thead th {\n",
              "        text-align: right;\n",
              "    }\n",
              "</style>\n",
              "<table border=\"1\" class=\"dataframe\">\n",
              "  <thead>\n",
              "    <tr style=\"text-align: right;\">\n",
              "      <th></th>\n",
              "      <th>gender</th>\n",
              "      <th>race/ethnicity</th>\n",
              "      <th>parental level of education</th>\n",
              "      <th>lunch</th>\n",
              "      <th>test preparation course</th>\n",
              "      <th>math score</th>\n",
              "      <th>reading score</th>\n",
              "      <th>writing score</th>\n",
              "      <th>total_score</th>\n",
              "      <th>average_score</th>\n",
              "      <th>success</th>\n",
              "      <th>grades</th>\n",
              "    </tr>\n",
              "  </thead>\n",
              "  <tbody>\n",
              "  </tbody>\n",
              "</table>\n",
              "</div>"
            ],
            "text/plain": [
              "Empty DataFrame\n",
              "Columns: [gender, race/ethnicity, parental level of education, lunch, test preparation course, math score, reading score, writing score, total_score, average_score, success, grades]\n",
              "Index: []"
            ]
          },
          "metadata": {
            "tags": []
          },
          "execution_count": 159
        }
      ]
    },
    {
      "cell_type": "code",
      "metadata": {
        "colab": {
          "base_uri": "https://localhost:8080/"
        },
        "id": "tl7HfBkUVPYY",
        "outputId": "742654a8-f3a2-4a30-ac34-ac84f327bf4a"
      },
      "source": [
        "data['gender'].unique()"
      ],
      "execution_count": null,
      "outputs": [
        {
          "output_type": "execute_result",
          "data": {
            "text/plain": [
              "array(['female', 'male'], dtype=object)"
            ]
          },
          "metadata": {
            "tags": []
          },
          "execution_count": 160
        }
      ]
    },
    {
      "cell_type": "code",
      "metadata": {
        "id": "D3VANylMVaRs"
      },
      "source": [
        "data['gender'].replace({'female': 1, 'male': 0}, inplace=True)"
      ],
      "execution_count": null,
      "outputs": []
    },
    {
      "cell_type": "code",
      "metadata": {
        "colab": {
          "base_uri": "https://localhost:8080/"
        },
        "id": "VBC8rb4VVy4y",
        "outputId": "901168a6-a47e-4b49-c664-0cccd98f4415"
      },
      "source": [
        "data['race/ethnicity'].unique()"
      ],
      "execution_count": null,
      "outputs": [
        {
          "output_type": "execute_result",
          "data": {
            "text/plain": [
              "array(['group B', 'group C', 'group A', 'group D', 'group E'],\n",
              "      dtype=object)"
            ]
          },
          "metadata": {
            "tags": []
          },
          "execution_count": 162
        }
      ]
    },
    {
      "cell_type": "code",
      "metadata": {
        "id": "OzJAZlDfWCiq"
      },
      "source": [
        "data['race/ethnicity'].replace({'group A': 0, 'group B': 1,'group C': 2,'group D': 3,'group E': 4}, inplace=True)"
      ],
      "execution_count": null,
      "outputs": []
    },
    {
      "cell_type": "code",
      "metadata": {
        "colab": {
          "base_uri": "https://localhost:8080/"
        },
        "id": "EKMjqPlg3jiT",
        "outputId": "75b45d93-03aa-4d50-f6ea-7a9e33856489"
      },
      "source": [
        "data['grades'].unique()"
      ],
      "execution_count": null,
      "outputs": [
        {
          "output_type": "execute_result",
          "data": {
            "text/plain": [
              "array(['C', 'B', 'A', 'E', 'D', 'F'], dtype=object)"
            ]
          },
          "metadata": {
            "tags": []
          },
          "execution_count": 164
        }
      ]
    },
    {
      "cell_type": "code",
      "metadata": {
        "id": "7gQ9MZ-f3m6G"
      },
      "source": [
        "data['grades'].replace({'A': 0, 'B': 1,'C': 2,'D': 3,'E': 4,'F':5}, inplace=True)"
      ],
      "execution_count": null,
      "outputs": []
    },
    {
      "cell_type": "code",
      "metadata": {
        "colab": {
          "base_uri": "https://localhost:8080/"
        },
        "id": "xpusITTHWUQG",
        "outputId": "75cecbcb-c00d-4324-b166-ac7f5b98e92b"
      },
      "source": [
        "data['parental level of education'].unique()"
      ],
      "execution_count": null,
      "outputs": [
        {
          "output_type": "execute_result",
          "data": {
            "text/plain": [
              "array([\"bachelor's degree\", 'some college', \"master's degree\",\n",
              "       \"associate's degree\", 'high school', 'some high school'],\n",
              "      dtype=object)"
            ]
          },
          "metadata": {
            "tags": []
          },
          "execution_count": 166
        }
      ]
    },
    {
      "cell_type": "code",
      "metadata": {
        "id": "ubYV9mN3Wc51"
      },
      "source": [
        "data['parental level of education'].replace({'bachelor\\'s degree': 0, 'some college': 1,\"master\\'s degree\": 2,'associate\\'s degree': 3,'high school': 4,'some high school': 5}, inplace=True)"
      ],
      "execution_count": null,
      "outputs": []
    },
    {
      "cell_type": "code",
      "metadata": {
        "colab": {
          "base_uri": "https://localhost:8080/"
        },
        "id": "IPrxPoiPXF1H",
        "outputId": "7c01204a-8126-45ba-c630-60d53abc955d"
      },
      "source": [
        "data['lunch'].unique()"
      ],
      "execution_count": null,
      "outputs": [
        {
          "output_type": "execute_result",
          "data": {
            "text/plain": [
              "array(['standard', 'free/reduced'], dtype=object)"
            ]
          },
          "metadata": {
            "tags": []
          },
          "execution_count": 168
        }
      ]
    },
    {
      "cell_type": "code",
      "metadata": {
        "id": "shOMKAjxXKpM"
      },
      "source": [
        "data['lunch'].replace({'standard': 1, 'free/reduced': 0}, inplace=True)"
      ],
      "execution_count": null,
      "outputs": []
    },
    {
      "cell_type": "code",
      "metadata": {
        "colab": {
          "base_uri": "https://localhost:8080/"
        },
        "id": "VEodxYemXW-I",
        "outputId": "a5fac5ff-cee6-476b-d24b-ae78e97df3bf"
      },
      "source": [
        "data['test preparation course'].unique()"
      ],
      "execution_count": null,
      "outputs": [
        {
          "output_type": "execute_result",
          "data": {
            "text/plain": [
              "array(['none', 'completed'], dtype=object)"
            ]
          },
          "metadata": {
            "tags": []
          },
          "execution_count": 170
        }
      ]
    },
    {
      "cell_type": "code",
      "metadata": {
        "id": "bXGrRbJwXerv"
      },
      "source": [
        "data['test preparation course'].replace({'none': 0, 'completed': 1}, inplace=True)"
      ],
      "execution_count": null,
      "outputs": []
    },
    {
      "cell_type": "code",
      "metadata": {
        "colab": {
          "base_uri": "https://localhost:8080/"
        },
        "id": "XpWL5EwXXmlY",
        "outputId": "127aad36-1570-4be9-aeec-6bb4083bd02c"
      },
      "source": [
        "data['success'].unique()"
      ],
      "execution_count": null,
      "outputs": [
        {
          "output_type": "execute_result",
          "data": {
            "text/plain": [
              "array(['passed', 'failed'], dtype=object)"
            ]
          },
          "metadata": {
            "tags": []
          },
          "execution_count": 172
        }
      ]
    },
    {
      "cell_type": "code",
      "metadata": {
        "id": "lSiHldsfXukJ"
      },
      "source": [
        "data['success'].replace({'failed': 0, 'passed': 1}, inplace=True)"
      ],
      "execution_count": null,
      "outputs": []
    },
    {
      "cell_type": "code",
      "metadata": {
        "colab": {
          "base_uri": "https://localhost:8080/"
        },
        "id": "EPpB4FR8ZAEi",
        "outputId": "df4a6f86-9a84-4047-b3ac-e0ac673b976a"
      },
      "source": [
        "data['success']"
      ],
      "execution_count": null,
      "outputs": [
        {
          "output_type": "execute_result",
          "data": {
            "text/plain": [
              "0      1\n",
              "1      1\n",
              "2      1\n",
              "3      0\n",
              "4      1\n",
              "      ..\n",
              "995    1\n",
              "996    0\n",
              "997    0\n",
              "998    1\n",
              "999    1\n",
              "Name: success, Length: 1000, dtype: int64"
            ]
          },
          "metadata": {
            "tags": []
          },
          "execution_count": 174
        }
      ]
    },
    {
      "cell_type": "code",
      "metadata": {
        "colab": {
          "base_uri": "https://localhost:8080/",
          "height": 436
        },
        "id": "vDA8BUlIZjJX",
        "outputId": "f21e3b07-959c-42d6-e73d-e8a9f2026a40"
      },
      "source": [
        "data"
      ],
      "execution_count": null,
      "outputs": [
        {
          "output_type": "execute_result",
          "data": {
            "text/html": [
              "<div>\n",
              "<style scoped>\n",
              "    .dataframe tbody tr th:only-of-type {\n",
              "        vertical-align: middle;\n",
              "    }\n",
              "\n",
              "    .dataframe tbody tr th {\n",
              "        vertical-align: top;\n",
              "    }\n",
              "\n",
              "    .dataframe thead th {\n",
              "        text-align: right;\n",
              "    }\n",
              "</style>\n",
              "<table border=\"1\" class=\"dataframe\">\n",
              "  <thead>\n",
              "    <tr style=\"text-align: right;\">\n",
              "      <th></th>\n",
              "      <th>gender</th>\n",
              "      <th>race/ethnicity</th>\n",
              "      <th>parental level of education</th>\n",
              "      <th>lunch</th>\n",
              "      <th>test preparation course</th>\n",
              "      <th>math score</th>\n",
              "      <th>reading score</th>\n",
              "      <th>writing score</th>\n",
              "      <th>total_score</th>\n",
              "      <th>average_score</th>\n",
              "      <th>success</th>\n",
              "      <th>grades</th>\n",
              "    </tr>\n",
              "  </thead>\n",
              "  <tbody>\n",
              "    <tr>\n",
              "      <th>0</th>\n",
              "      <td>1</td>\n",
              "      <td>1</td>\n",
              "      <td>0</td>\n",
              "      <td>1</td>\n",
              "      <td>0</td>\n",
              "      <td>72</td>\n",
              "      <td>72</td>\n",
              "      <td>74</td>\n",
              "      <td>218</td>\n",
              "      <td>72.666667</td>\n",
              "      <td>1</td>\n",
              "      <td>2</td>\n",
              "    </tr>\n",
              "    <tr>\n",
              "      <th>1</th>\n",
              "      <td>1</td>\n",
              "      <td>2</td>\n",
              "      <td>1</td>\n",
              "      <td>1</td>\n",
              "      <td>1</td>\n",
              "      <td>69</td>\n",
              "      <td>90</td>\n",
              "      <td>88</td>\n",
              "      <td>247</td>\n",
              "      <td>82.333333</td>\n",
              "      <td>1</td>\n",
              "      <td>1</td>\n",
              "    </tr>\n",
              "    <tr>\n",
              "      <th>2</th>\n",
              "      <td>1</td>\n",
              "      <td>1</td>\n",
              "      <td>2</td>\n",
              "      <td>1</td>\n",
              "      <td>0</td>\n",
              "      <td>90</td>\n",
              "      <td>95</td>\n",
              "      <td>93</td>\n",
              "      <td>278</td>\n",
              "      <td>92.666667</td>\n",
              "      <td>1</td>\n",
              "      <td>0</td>\n",
              "    </tr>\n",
              "    <tr>\n",
              "      <th>3</th>\n",
              "      <td>0</td>\n",
              "      <td>0</td>\n",
              "      <td>3</td>\n",
              "      <td>0</td>\n",
              "      <td>0</td>\n",
              "      <td>47</td>\n",
              "      <td>57</td>\n",
              "      <td>44</td>\n",
              "      <td>148</td>\n",
              "      <td>49.333333</td>\n",
              "      <td>0</td>\n",
              "      <td>4</td>\n",
              "    </tr>\n",
              "    <tr>\n",
              "      <th>4</th>\n",
              "      <td>0</td>\n",
              "      <td>2</td>\n",
              "      <td>1</td>\n",
              "      <td>1</td>\n",
              "      <td>0</td>\n",
              "      <td>76</td>\n",
              "      <td>78</td>\n",
              "      <td>75</td>\n",
              "      <td>229</td>\n",
              "      <td>76.333333</td>\n",
              "      <td>1</td>\n",
              "      <td>2</td>\n",
              "    </tr>\n",
              "    <tr>\n",
              "      <th>...</th>\n",
              "      <td>...</td>\n",
              "      <td>...</td>\n",
              "      <td>...</td>\n",
              "      <td>...</td>\n",
              "      <td>...</td>\n",
              "      <td>...</td>\n",
              "      <td>...</td>\n",
              "      <td>...</td>\n",
              "      <td>...</td>\n",
              "      <td>...</td>\n",
              "      <td>...</td>\n",
              "      <td>...</td>\n",
              "    </tr>\n",
              "    <tr>\n",
              "      <th>995</th>\n",
              "      <td>1</td>\n",
              "      <td>4</td>\n",
              "      <td>2</td>\n",
              "      <td>1</td>\n",
              "      <td>1</td>\n",
              "      <td>88</td>\n",
              "      <td>99</td>\n",
              "      <td>95</td>\n",
              "      <td>282</td>\n",
              "      <td>94.000000</td>\n",
              "      <td>1</td>\n",
              "      <td>0</td>\n",
              "    </tr>\n",
              "    <tr>\n",
              "      <th>996</th>\n",
              "      <td>0</td>\n",
              "      <td>2</td>\n",
              "      <td>4</td>\n",
              "      <td>0</td>\n",
              "      <td>0</td>\n",
              "      <td>62</td>\n",
              "      <td>55</td>\n",
              "      <td>55</td>\n",
              "      <td>172</td>\n",
              "      <td>57.333333</td>\n",
              "      <td>0</td>\n",
              "      <td>4</td>\n",
              "    </tr>\n",
              "    <tr>\n",
              "      <th>997</th>\n",
              "      <td>1</td>\n",
              "      <td>2</td>\n",
              "      <td>4</td>\n",
              "      <td>0</td>\n",
              "      <td>1</td>\n",
              "      <td>59</td>\n",
              "      <td>71</td>\n",
              "      <td>65</td>\n",
              "      <td>195</td>\n",
              "      <td>65.000000</td>\n",
              "      <td>0</td>\n",
              "      <td>3</td>\n",
              "    </tr>\n",
              "    <tr>\n",
              "      <th>998</th>\n",
              "      <td>1</td>\n",
              "      <td>3</td>\n",
              "      <td>1</td>\n",
              "      <td>1</td>\n",
              "      <td>1</td>\n",
              "      <td>68</td>\n",
              "      <td>78</td>\n",
              "      <td>77</td>\n",
              "      <td>223</td>\n",
              "      <td>74.333333</td>\n",
              "      <td>1</td>\n",
              "      <td>2</td>\n",
              "    </tr>\n",
              "    <tr>\n",
              "      <th>999</th>\n",
              "      <td>1</td>\n",
              "      <td>3</td>\n",
              "      <td>1</td>\n",
              "      <td>0</td>\n",
              "      <td>0</td>\n",
              "      <td>77</td>\n",
              "      <td>86</td>\n",
              "      <td>86</td>\n",
              "      <td>249</td>\n",
              "      <td>83.000000</td>\n",
              "      <td>1</td>\n",
              "      <td>1</td>\n",
              "    </tr>\n",
              "  </tbody>\n",
              "</table>\n",
              "<p>1000 rows × 12 columns</p>\n",
              "</div>"
            ],
            "text/plain": [
              "     gender  race/ethnicity  ...  success  grades\n",
              "0         1               1  ...        1       2\n",
              "1         1               2  ...        1       1\n",
              "2         1               1  ...        1       0\n",
              "3         0               0  ...        0       4\n",
              "4         0               2  ...        1       2\n",
              "..      ...             ...  ...      ...     ...\n",
              "995       1               4  ...        1       0\n",
              "996       0               2  ...        0       4\n",
              "997       1               2  ...        0       3\n",
              "998       1               3  ...        1       2\n",
              "999       1               3  ...        1       1\n",
              "\n",
              "[1000 rows x 12 columns]"
            ]
          },
          "metadata": {
            "tags": []
          },
          "execution_count": 175
        }
      ]
    },
    {
      "cell_type": "code",
      "metadata": {
        "id": "1n9y0wXqX5YO"
      },
      "source": [
        "X = data[['gender', 'race/ethnicity','parental level of education','lunch','test preparation course','average_score']]\n",
        "y=data[['grades']]\n"
      ],
      "execution_count": null,
      "outputs": []
    },
    {
      "cell_type": "code",
      "metadata": {
        "id": "VuJkPit9Yuoz"
      },
      "source": [
        "x_train, x_test, y_train, y_test = train_test_split(X, y, test_size=0.33, random_state=42,shuffle=True)\n",
        "x_test, x_val, y_test, y_val = train_test_split(x_test, y_test, test_size=0.33, random_state=42,shuffle=True)"
      ],
      "execution_count": null,
      "outputs": []
    },
    {
      "cell_type": "code",
      "metadata": {
        "id": "0HdRRmpEYx6t"
      },
      "source": [
        "sc = StandardScaler()\n",
        "x_train = sc.fit_transform(x_train)\n",
        "x_test = sc.transform(x_test)\n",
        "x_val = sc.transform(x_val)"
      ],
      "execution_count": null,
      "outputs": []
    },
    {
      "cell_type": "code",
      "metadata": {
        "colab": {
          "base_uri": "https://localhost:8080/"
        },
        "id": "xJVqorA-YpDi",
        "outputId": "f6f1c796-51e5-43c2-f462-4c2fea71ec4c"
      },
      "source": [
        "log_reg=LogisticRegression(max_iter=10000, C=100,solver='saga')\n",
        "log_reg.fit(x_train, y_train)"
      ],
      "execution_count": null,
      "outputs": [
        {
          "output_type": "stream",
          "text": [
            "/usr/local/lib/python3.7/dist-packages/sklearn/utils/validation.py:760: DataConversionWarning: A column-vector y was passed when a 1d array was expected. Please change the shape of y to (n_samples, ), for example using ravel().\n",
            "  y = column_or_1d(y, warn=True)\n"
          ],
          "name": "stderr"
        },
        {
          "output_type": "execute_result",
          "data": {
            "text/plain": [
              "LogisticRegression(C=100, class_weight=None, dual=False, fit_intercept=True,\n",
              "                   intercept_scaling=1, l1_ratio=None, max_iter=10000,\n",
              "                   multi_class='auto', n_jobs=None, penalty='l2',\n",
              "                   random_state=None, solver='saga', tol=0.0001, verbose=0,\n",
              "                   warm_start=False)"
            ]
          },
          "metadata": {
            "tags": []
          },
          "execution_count": 179
        }
      ]
    },
    {
      "cell_type": "code",
      "metadata": {
        "colab": {
          "base_uri": "https://localhost:8080/"
        },
        "id": "c8rr9S2LaqZB",
        "outputId": "f2be736c-2088-4dc8-e967-25e1836d572d"
      },
      "source": [
        "x_train.shape"
      ],
      "execution_count": null,
      "outputs": [
        {
          "output_type": "execute_result",
          "data": {
            "text/plain": [
              "(670, 6)"
            ]
          },
          "metadata": {
            "tags": []
          },
          "execution_count": 180
        }
      ]
    },
    {
      "cell_type": "code",
      "metadata": {
        "colab": {
          "base_uri": "https://localhost:8080/"
        },
        "id": "1TpBYhbXasuR",
        "outputId": "c5355b69-6bfa-4f82-82dc-4e91ca992079"
      },
      "source": [
        "y_train.shape"
      ],
      "execution_count": null,
      "outputs": [
        {
          "output_type": "execute_result",
          "data": {
            "text/plain": [
              "(670, 1)"
            ]
          },
          "metadata": {
            "tags": []
          },
          "execution_count": 181
        }
      ]
    },
    {
      "cell_type": "code",
      "metadata": {
        "colab": {
          "base_uri": "https://localhost:8080/"
        },
        "id": "muMutW-6a606",
        "outputId": "a1ae3e0c-3f3c-4d1e-a87b-0f097ef8e9d2"
      },
      "source": [
        "print(log_reg.coef_)\n",
        "print(log_reg.intercept_)"
      ],
      "execution_count": null,
      "outputs": [
        {
          "output_type": "stream",
          "text": [
            "[[ 1.16590621e-01  1.67117126e-01  1.39288904e-01  1.49440004e+00\n",
            "   1.13462851e+00  4.57469898e+01]\n",
            " [-2.19116897e-01  6.05759185e-02 -3.10242328e-02 -3.70914634e-01\n",
            "   2.53708797e-01  3.02071639e+01]\n",
            " [ 6.11754825e-02  3.21672965e-02 -3.20876713e-01 -2.24928650e-02\n",
            "  -3.29342288e-02  1.09707408e+01]\n",
            " [ 3.61622359e-02 -1.19090460e-01  3.52724275e-02 -3.41224310e-01\n",
            "  -3.14710222e-01 -1.17376653e+01]\n",
            " [ 2.19590798e-01 -1.16584204e-01  7.66010093e-02 -1.92209378e-01\n",
            "  -6.89433094e-01 -3.24174125e+01]\n",
            " [-2.14402241e-01 -2.41856764e-02  1.00738606e-01 -5.67558851e-01\n",
            "  -3.51259760e-01 -4.27698168e+01]]\n",
            "[-25.95837059   0.05384852  16.35291154  18.88462263   6.18319479\n",
            " -15.51620688]\n"
          ],
          "name": "stdout"
        }
      ]
    },
    {
      "cell_type": "code",
      "metadata": {
        "colab": {
          "base_uri": "https://localhost:8080/"
        },
        "id": "jcH5Yw-ta_bU",
        "outputId": "9c5fdba5-fc92-475e-ab1b-a9e5ef1c3545"
      },
      "source": [
        "y_pred = log_reg.predict(x_test)\n",
        "y_pred"
      ],
      "execution_count": null,
      "outputs": [
        {
          "output_type": "execute_result",
          "data": {
            "text/plain": [
              "array([3, 3, 3, 3, 1, 3, 3, 3, 4, 2, 3, 3, 3, 3, 4, 1, 2, 1, 4, 3, 3, 4,\n",
              "       3, 4, 2, 1, 4, 0, 4, 3, 2, 2, 4, 4, 4, 4, 1, 4, 5, 2, 3, 3, 2, 4,\n",
              "       2, 4, 4, 2, 4, 3, 1, 1, 3, 0, 1, 3, 2, 4, 4, 2, 3, 1, 1, 2, 3, 4,\n",
              "       3, 4, 2, 2, 3, 0, 0, 1, 2, 2, 4, 3, 3, 3, 4, 2, 4, 4, 1, 4, 3, 2,\n",
              "       3, 2, 3, 2, 0, 2, 3, 5, 4, 1, 2, 4, 3, 3, 1, 3, 2, 1, 2, 3, 5, 1,\n",
              "       3, 3, 2, 2, 2, 5, 1, 2, 5, 4, 0, 5, 2, 3, 1, 4, 4, 2, 4, 1, 1, 3,\n",
              "       3, 2, 1, 1, 1, 2, 2, 4, 5, 4, 4, 3, 2, 3, 2, 1, 1, 4, 2, 4, 3, 3,\n",
              "       2, 4, 2, 3, 2, 2, 2, 3, 0, 2, 3, 3, 3, 4, 2, 3, 4, 3, 2, 3, 5, 2,\n",
              "       2, 0, 2, 4, 4, 4, 1, 4, 4, 4, 3, 2, 4, 2, 2, 4, 1, 1, 4, 2, 1, 1,\n",
              "       3, 4, 4, 3, 3, 4, 3, 0, 0, 2, 2, 2, 3, 3, 3, 3, 2, 2, 2, 1, 4, 2,\n",
              "       4])"
            ]
          },
          "metadata": {
            "tags": []
          },
          "execution_count": 183
        }
      ]
    },
    {
      "cell_type": "code",
      "metadata": {
        "colab": {
          "base_uri": "https://localhost:8080/"
        },
        "id": "AoThv9jLbEJp",
        "outputId": "ebe669e0-1246-4ef9-8758-8b760b6dbce1"
      },
      "source": [
        "confusion_matrix(y_test, y_pred)"
      ],
      "execution_count": null,
      "outputs": [
        {
          "output_type": "execute_result",
          "data": {
            "text/plain": [
              "array([[10,  0,  0,  0,  0,  0],\n",
              "       [ 0, 31,  2,  0,  0,  0],\n",
              "       [ 0,  0, 56,  2,  0,  0],\n",
              "       [ 0,  0,  0, 59,  0,  0],\n",
              "       [ 0,  0,  0,  0, 51,  0],\n",
              "       [ 0,  0,  0,  0,  2,  8]])"
            ]
          },
          "metadata": {
            "tags": []
          },
          "execution_count": 184
        }
      ]
    },
    {
      "cell_type": "code",
      "metadata": {
        "colab": {
          "base_uri": "https://localhost:8080/"
        },
        "id": "l0DaymOzcBXk",
        "outputId": "eee6d466-8aa4-44c4-e3a2-9d647d5235cb"
      },
      "source": [
        "score = log_reg.score(x_test, y_test)\n",
        "score"
      ],
      "execution_count": null,
      "outputs": [
        {
          "output_type": "execute_result",
          "data": {
            "text/plain": [
              "0.9728506787330317"
            ]
          },
          "metadata": {
            "tags": []
          },
          "execution_count": 185
        }
      ]
    },
    {
      "cell_type": "code",
      "metadata": {
        "colab": {
          "base_uri": "https://localhost:8080/"
        },
        "id": "PDVroxZOj7KF",
        "outputId": "90d6519b-47fd-43bc-e55d-5250ca9bf576"
      },
      "source": [
        "y_pred_2 = log_reg.predict(x_val)\n",
        "y_pred_2"
      ],
      "execution_count": null,
      "outputs": [
        {
          "output_type": "execute_result",
          "data": {
            "text/plain": [
              "array([4, 1, 4, 2, 5, 4, 3, 3, 3, 1, 5, 4, 4, 2, 4, 1, 3, 2, 2, 2, 2, 3,\n",
              "       2, 1, 2, 5, 2, 2, 4, 2, 3, 4, 3, 4, 1, 0, 0, 4, 2, 3, 3, 4, 4, 1,\n",
              "       4, 3, 2, 2, 4, 2, 2, 4, 4, 2, 4, 4, 4, 4, 1, 4, 2, 2, 1, 4, 4, 4,\n",
              "       2, 1, 4, 1, 3, 2, 3, 0, 2, 4, 4, 4, 2, 2, 4, 1, 3, 3, 1, 4, 3, 3,\n",
              "       4, 4, 0, 4, 2, 3, 3, 2, 3, 3, 2, 4, 1, 4, 4, 3, 3, 5, 1, 5, 2])"
            ]
          },
          "metadata": {
            "tags": []
          },
          "execution_count": 186
        }
      ]
    },
    {
      "cell_type": "code",
      "metadata": {
        "colab": {
          "base_uri": "https://localhost:8080/"
        },
        "id": "GE8PLT7OkKi_",
        "outputId": "de911d7b-fa53-45df-c55d-f93cbae11414"
      },
      "source": [
        "confusion_matrix(y_val, y_pred_2)"
      ],
      "execution_count": null,
      "outputs": [
        {
          "output_type": "execute_result",
          "data": {
            "text/plain": [
              "array([[ 2,  1,  0,  0,  0,  0],\n",
              "       [ 2, 12,  0,  0,  0,  0],\n",
              "       [ 0,  1, 28,  0,  0,  0],\n",
              "       [ 0,  0,  0, 22,  0,  0],\n",
              "       [ 0,  0,  0,  0, 36,  0],\n",
              "       [ 0,  0,  0,  0,  0,  5]])"
            ]
          },
          "metadata": {
            "tags": []
          },
          "execution_count": 187
        }
      ]
    },
    {
      "cell_type": "code",
      "metadata": {
        "colab": {
          "base_uri": "https://localhost:8080/"
        },
        "id": "EzkjGaibkQgJ",
        "outputId": "e0eaf1bc-37d1-48c4-8c13-ee386c56e7a2"
      },
      "source": [
        "score_2 = log_reg.score(x_val, y_val)\n",
        "score_2"
      ],
      "execution_count": null,
      "outputs": [
        {
          "output_type": "execute_result",
          "data": {
            "text/plain": [
              "0.963302752293578"
            ]
          },
          "metadata": {
            "tags": []
          },
          "execution_count": 188
        }
      ]
    },
    {
      "cell_type": "code",
      "metadata": {
        "colab": {
          "base_uri": "https://localhost:8080/"
        },
        "id": "-AdD98w8KJDk",
        "outputId": "c50032b5-62f5-42af-8535-fd3edea3ced0"
      },
      "source": [
        "x_val.shape"
      ],
      "execution_count": null,
      "outputs": [
        {
          "output_type": "execute_result",
          "data": {
            "text/plain": [
              "(109, 6)"
            ]
          },
          "metadata": {
            "tags": []
          },
          "execution_count": 189
        }
      ]
    },
    {
      "cell_type": "code",
      "metadata": {
        "colab": {
          "base_uri": "https://localhost:8080/"
        },
        "id": "-dWoEJuRgF2e",
        "outputId": "98fe46a7-fa21-4cf4-81c8-64ba1eafd6de"
      },
      "source": [
        "from sklearn.multiclass import OneVsOneClassifier\n",
        "ovo_clf=OneVsOneClassifier(SGDClassifier(random_state=42))\n",
        "ovo_clf.fit(x_train,y_train)\n"
      ],
      "execution_count": null,
      "outputs": [
        {
          "output_type": "stream",
          "text": [
            "/usr/local/lib/python3.7/dist-packages/sklearn/utils/validation.py:760: DataConversionWarning: A column-vector y was passed when a 1d array was expected. Please change the shape of y to (n_samples, ), for example using ravel().\n",
            "  y = column_or_1d(y, warn=True)\n"
          ],
          "name": "stderr"
        },
        {
          "output_type": "execute_result",
          "data": {
            "text/plain": [
              "OneVsOneClassifier(estimator=SGDClassifier(alpha=0.0001, average=False,\n",
              "                                           class_weight=None,\n",
              "                                           early_stopping=False, epsilon=0.1,\n",
              "                                           eta0=0.0, fit_intercept=True,\n",
              "                                           l1_ratio=0.15,\n",
              "                                           learning_rate='optimal',\n",
              "                                           loss='hinge', max_iter=1000,\n",
              "                                           n_iter_no_change=5, n_jobs=None,\n",
              "                                           penalty='l2', power_t=0.5,\n",
              "                                           random_state=42, shuffle=True,\n",
              "                                           tol=0.001, validation_fraction=0.1,\n",
              "                                           verbose=0, warm_start=False),\n",
              "                   n_jobs=None)"
            ]
          },
          "metadata": {
            "tags": []
          },
          "execution_count": 190
        }
      ]
    },
    {
      "cell_type": "code",
      "metadata": {
        "colab": {
          "base_uri": "https://localhost:8080/"
        },
        "id": "UIdE6VpngIwb",
        "outputId": "ff967e75-e4e5-4ef8-9b56-53c1f2159d80"
      },
      "source": [
        "ovo_clf.predict(x_test)"
      ],
      "execution_count": null,
      "outputs": [
        {
          "output_type": "execute_result",
          "data": {
            "text/plain": [
              "array([3, 3, 3, 3, 1, 3, 3, 3, 4, 2, 3, 3, 2, 3, 4, 1, 2, 1, 4, 3, 3, 4,\n",
              "       3, 4, 2, 1, 4, 0, 4, 3, 2, 2, 4, 4, 4, 4, 0, 4, 5, 2, 3, 2, 2, 4,\n",
              "       2, 4, 4, 2, 4, 3, 1, 1, 3, 0, 1, 3, 2, 4, 4, 2, 3, 1, 1, 2, 3, 4,\n",
              "       2, 4, 2, 2, 3, 0, 0, 1, 2, 2, 5, 3, 3, 3, 4, 2, 4, 4, 1, 4, 3, 2,\n",
              "       2, 2, 3, 2, 0, 2, 3, 5, 4, 1, 2, 4, 3, 3, 1, 3, 2, 1, 2, 3, 5, 1,\n",
              "       3, 3, 2, 2, 2, 5, 1, 2, 5, 4, 0, 5, 2, 2, 1, 4, 4, 2, 4, 1, 1, 3,\n",
              "       3, 2, 0, 1, 1, 2, 2, 5, 4, 4, 4, 3, 2, 3, 2, 1, 1, 4, 2, 4, 3, 3,\n",
              "       2, 4, 2, 3, 2, 2, 2, 3, 0, 2, 3, 3, 3, 4, 2, 3, 4, 3, 2, 3, 5, 2,\n",
              "       2, 0, 2, 3, 4, 4, 1, 4, 4, 4, 3, 2, 4, 2, 2, 4, 1, 1, 4, 2, 1, 0,\n",
              "       3, 4, 4, 2, 3, 4, 3, 0, 0, 2, 2, 2, 3, 3, 3, 3, 2, 2, 2, 1, 4, 2,\n",
              "       4])"
            ]
          },
          "metadata": {
            "tags": []
          },
          "execution_count": 191
        }
      ]
    },
    {
      "cell_type": "code",
      "metadata": {
        "colab": {
          "base_uri": "https://localhost:8080/"
        },
        "id": "gZMr1GgQgml4",
        "outputId": "93696587-2976-419f-9843-5676caef4f5b"
      },
      "source": [
        "y_train_pred=cross_val_predict(ovo_clf,x_train,y_train,cv=3)\n",
        "y_train_pred"
      ],
      "execution_count": null,
      "outputs": [
        {
          "output_type": "stream",
          "text": [
            "/usr/local/lib/python3.7/dist-packages/sklearn/utils/validation.py:760: DataConversionWarning: A column-vector y was passed when a 1d array was expected. Please change the shape of y to (n_samples, ), for example using ravel().\n",
            "  y = column_or_1d(y, warn=True)\n",
            "/usr/local/lib/python3.7/dist-packages/sklearn/utils/validation.py:760: DataConversionWarning: A column-vector y was passed when a 1d array was expected. Please change the shape of y to (n_samples, ), for example using ravel().\n",
            "  y = column_or_1d(y, warn=True)\n",
            "/usr/local/lib/python3.7/dist-packages/sklearn/utils/validation.py:760: DataConversionWarning: A column-vector y was passed when a 1d array was expected. Please change the shape of y to (n_samples, ), for example using ravel().\n",
            "  y = column_or_1d(y, warn=True)\n"
          ],
          "name": "stderr"
        },
        {
          "output_type": "execute_result",
          "data": {
            "text/plain": [
              "array([3, 3, 1, 4, 2, 2, 4, 3, 1, 3, 2, 4, 2, 1, 2, 1, 4, 0, 2, 2, 4, 1,\n",
              "       5, 4, 2, 4, 2, 5, 3, 1, 2, 0, 4, 2, 1, 3, 2, 3, 3, 1, 3, 3, 2, 3,\n",
              "       0, 2, 3, 4, 4, 1, 4, 5, 2, 1, 3, 3, 2, 2, 1, 3, 3, 3, 2, 3, 3, 1,\n",
              "       3, 3, 3, 3, 2, 3, 0, 4, 1, 4, 4, 5, 2, 4, 2, 3, 1, 2, 3, 0, 4, 3,\n",
              "       2, 1, 5, 1, 4, 4, 4, 3, 3, 4, 2, 4, 1, 3, 3, 1, 2, 2, 4, 4, 2, 3,\n",
              "       1, 4, 0, 2, 1, 2, 1, 4, 4, 2, 2, 1, 4, 4, 3, 1, 2, 2, 4, 3, 4, 4,\n",
              "       2, 4, 3, 0, 0, 2, 3, 4, 1, 2, 3, 2, 2, 4, 4, 2, 2, 2, 3, 1, 4, 3,\n",
              "       0, 3, 4, 4, 3, 2, 1, 4, 4, 2, 1, 3, 2, 2, 4, 3, 2, 2, 4, 2, 1, 4,\n",
              "       3, 4, 1, 3, 2, 2, 3, 2, 4, 4, 3, 0, 1, 4, 3, 3, 2, 4, 3, 1, 1, 3,\n",
              "       3, 4, 3, 4, 4, 4, 4, 3, 4, 5, 2, 3, 4, 4, 3, 3, 2, 3, 4, 3, 3, 2,\n",
              "       1, 3, 2, 4, 2, 3, 2, 0, 3, 2, 4, 1, 4, 1, 0, 2, 3, 2, 3, 3, 0, 2,\n",
              "       2, 4, 4, 3, 4, 1, 4, 0, 2, 4, 4, 4, 2, 2, 4, 4, 1, 1, 2, 2, 1, 4,\n",
              "       4, 3, 2, 2, 3, 3, 5, 3, 2, 3, 3, 3, 3, 2, 5, 1, 3, 4, 2, 0, 4, 0,\n",
              "       0, 2, 2, 4, 3, 3, 3, 1, 1, 4, 3, 2, 3, 1, 2, 3, 2, 2, 4, 4, 3, 3,\n",
              "       3, 1, 4, 0, 4, 3, 3, 1, 3, 3, 3, 4, 1, 4, 0, 0, 2, 3, 3, 2, 4, 2,\n",
              "       3, 2, 3, 1, 4, 2, 4, 4, 4, 4, 3, 3, 4, 2, 3, 1, 3, 0, 4, 1, 4, 2,\n",
              "       1, 3, 4, 2, 2, 2, 2, 2, 2, 0, 0, 0, 1, 4, 3, 3, 3, 3, 3, 4, 4, 2,\n",
              "       0, 4, 3, 1, 3, 3, 4, 1, 2, 1, 1, 2, 4, 3, 3, 4, 4, 4, 3, 3, 2, 4,\n",
              "       0, 3, 2, 4, 2, 2, 3, 2, 4, 3, 3, 4, 1, 4, 1, 4, 3, 4, 4, 1, 3, 1,\n",
              "       2, 0, 3, 4, 3, 3, 4, 1, 2, 1, 2, 4, 4, 2, 2, 4, 4, 4, 0, 2, 4, 1,\n",
              "       4, 2, 2, 4, 2, 3, 4, 3, 2, 4, 4, 2, 2, 1, 4, 3, 4, 2, 2, 1, 1, 2,\n",
              "       2, 4, 2, 3, 0, 1, 2, 1, 3, 0, 1, 3, 2, 4, 2, 3, 4, 2, 2, 2, 2, 1,\n",
              "       2, 4, 3, 4, 1, 2, 3, 1, 2, 4, 4, 3, 3, 3, 2, 4, 1, 2, 3, 4, 2, 2,\n",
              "       2, 4, 0, 2, 0, 2, 4, 3, 2, 4, 4, 3, 4, 2, 3, 1, 2, 2, 2, 2, 3, 3,\n",
              "       1, 3, 2, 2, 3, 2, 2, 3, 3, 3, 4, 3, 3, 2, 3, 4, 4, 0, 4, 3, 4, 2,\n",
              "       4, 1, 3, 3, 3, 1, 3, 4, 2, 4, 4, 1, 4, 3, 3, 2, 2, 4, 4, 4, 1, 4,\n",
              "       2, 2, 1, 5, 4, 4, 1, 3, 1, 2, 3, 4, 2, 1, 4, 1, 2, 4, 2, 1, 4, 2,\n",
              "       3, 4, 4, 5, 4, 2, 4, 2, 3, 2, 2, 3, 4, 3, 3, 4, 4, 3, 3, 3, 4, 5,\n",
              "       4, 1, 4, 0, 3, 0, 2, 1, 1, 3, 2, 3, 2, 4, 1, 2, 3, 3, 3, 3, 3, 3,\n",
              "       2, 1, 3, 2, 2, 2, 3, 3, 3, 4, 3, 3, 1, 3, 2, 3, 2, 2, 0, 3, 1, 5,\n",
              "       1, 1, 3, 2, 4, 0, 3, 4, 4, 1])"
            ]
          },
          "metadata": {
            "tags": []
          },
          "execution_count": 196
        }
      ]
    },
    {
      "cell_type": "code",
      "metadata": {
        "colab": {
          "base_uri": "https://localhost:8080/"
        },
        "id": "kSDFCg3Qg3Do",
        "outputId": "b97e5532-8430-4cb9-a6c4-296fdf910270"
      },
      "source": [
        "confusion_matrix(y_train,y_train_pred)"
      ],
      "execution_count": null,
      "outputs": [
        {
          "output_type": "execute_result",
          "data": {
            "text/plain": [
              "array([[ 35,   4,   0,   0,   0,   0],\n",
              "       [  2,  85,  12,   0,   0,   0],\n",
              "       [  0,   5, 156,  13,   0,   0],\n",
              "       [  0,   0,   4, 166,   5,   0],\n",
              "       [  0,   0,   0,   4, 161,   3],\n",
              "       [  0,   0,   0,   0,   6,   9]])"
            ]
          },
          "metadata": {
            "tags": []
          },
          "execution_count": 197
        }
      ]
    },
    {
      "cell_type": "code",
      "metadata": {
        "colab": {
          "base_uri": "https://localhost:8080/"
        },
        "id": "8QCFh7wJiyd-",
        "outputId": "116a0119-6a52-45a8-cbef-e58b5cc7871d"
      },
      "source": [
        "from sklearn.metrics import classification_report\n",
        "\n",
        "print(classification_report(y_test, y_pred))"
      ],
      "execution_count": null,
      "outputs": [
        {
          "output_type": "stream",
          "text": [
            "              precision    recall  f1-score   support\n",
            "\n",
            "           0       1.00      1.00      1.00        10\n",
            "           1       1.00      0.94      0.97        33\n",
            "           2       0.97      0.97      0.97        58\n",
            "           3       0.97      1.00      0.98        59\n",
            "           4       0.96      1.00      0.98        51\n",
            "           5       1.00      0.80      0.89        10\n",
            "\n",
            "    accuracy                           0.97       221\n",
            "   macro avg       0.98      0.95      0.96       221\n",
            "weighted avg       0.97      0.97      0.97       221\n",
            "\n"
          ],
          "name": "stdout"
        }
      ]
    }
  ]
}