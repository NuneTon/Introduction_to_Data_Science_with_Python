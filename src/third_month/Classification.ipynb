{
  "nbformat": 4,
  "nbformat_minor": 0,
  "metadata": {
    "colab": {
      "name": "Classification.ipynb",
      "provenance": []
    },
    "kernelspec": {
      "display_name": "Python 3",
      "name": "python3"
    },
    "language_info": {
      "name": "python"
    }
  },
  "cells": [
    {
      "cell_type": "code",
      "metadata": {
        "id": "m5H9fgA0wK9f"
      },
      "source": [
        "from sklearn.datasets import fetch_openml\n",
        "mnist = fetch_openml('mnist_784')\n",
        "x = mnist.data\n",
        "y = mnist.target\n"
      ],
      "execution_count": 53,
      "outputs": []
    },
    {
      "cell_type": "code",
      "metadata": {
        "colab": {
          "base_uri": "https://localhost:8080/",
          "height": 248
        },
        "id": "ihs4dM6rAQRe",
        "outputId": "00a10ad0-b3bb-47e6-c174-38da4e27f5f7"
      },
      "source": [
        "import matplotlib\n",
        "import matplotlib.pyplot as plt\n",
        "some_digit=x_train[36000]\n",
        "some_digit_image=some_digit.reshape(28,28)\n",
        "plt.imshow(some_digit_image,cmap=matplotlib.cm.binary,interpolation='nearest')\n",
        "plt.axis('off')\n",
        "plt.show()"
      ],
      "execution_count": 54,
      "outputs": [
        {
          "output_type": "display_data",
          "data": {
            "image/png": "[encoded data removed]",
            "text/plain": [
              "<Figure size 432x288 with 1 Axes>"
            ]
          },
          "metadata": {
            "tags": [],
            "needs_background": "light"
          }
        }
      ]
    },
    {
      "cell_type": "code",
      "metadata": {
        "colab": {
          "base_uri": "https://localhost:8080/"
        },
        "id": "35tUhB5zDld5",
        "outputId": "46ad4961-6eaa-441e-dd8d-80e249a6de3f"
      },
      "source": [
        "y_train[36000]"
      ],
      "execution_count": 55,
      "outputs": [
        {
          "output_type": "execute_result",
          "data": {
            "text/plain": [
              "5"
            ]
          },
          "metadata": {
            "tags": []
          },
          "execution_count": 55
        }
      ]
    },
    {
      "cell_type": "code",
      "metadata": {
        "id": "6mIv1OKGFqb1"
      },
      "source": [
        "import numpy as np\n",
        "shuffle_index=np.random.permutation(60000)\n",
        "x_train, y_train=x_train[shuffle_index],y_train[shuffle_index]\n",
        "y_train = y_train.astype(np.int8)\n",
        "\n"
      ],
      "execution_count": 56,
      "outputs": []
    },
    {
      "cell_type": "markdown",
      "metadata": {
        "id": "8xH6TaTIGRhp"
      },
      "source": [
        "Binary classifier\n"
      ]
    },
    {
      "cell_type": "code",
      "metadata": {
        "id": "gTjMzT2_GTfd"
      },
      "source": [
        "y_train_5=(y_train==5)\n",
        "y_test_5=(y_test==5)"
      ],
      "execution_count": 57,
      "outputs": []
    },
    {
      "cell_type": "markdown",
      "metadata": {
        "id": "7Ws9eRfCJ-FQ"
      },
      "source": [
        "Stochastic Gradient Descent"
      ]
    },
    {
      "cell_type": "code",
      "metadata": {
        "colab": {
          "base_uri": "https://localhost:8080/"
        },
        "id": "phakt0a8KB2z",
        "outputId": "dfb92a5e-db23-4dda-cba6-1fa4e953b845"
      },
      "source": [
        "from sklearn.linear_model import SGDClassifier\n",
        "sgd_clf=SGDClassifier(random_state=42)\n",
        "sgd_clf.fit(x_train,y_train_5)\n",
        "sgd_clf.predict([some_digit])"
      ],
      "execution_count": 58,
      "outputs": [
        {
          "output_type": "execute_result",
          "data": {
            "text/plain": [
              "array([ True])"
            ]
          },
          "metadata": {
            "tags": []
          },
          "execution_count": 58
        }
      ]
    }
  ]
}