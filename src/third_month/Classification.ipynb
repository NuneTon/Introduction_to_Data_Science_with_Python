{
  "nbformat": 4,
  "nbformat_minor": 0,
  "metadata": {
    "colab": {
      "name": "Classification.ipynb",
      "provenance": [],
      "collapsed_sections": []
    },
    "kernelspec": {
      "display_name": "Python 3",
      "name": "python3"
    },
    "language_info": {
      "name": "python"
    }
  },
  "cells": [
    {
      "cell_type": "code",
      "metadata": {
        "id": "m5H9fgA0wK9f"
      },
      "source": [
        "from sklearn.datasets import fetch_openml\n",
        "mnist = fetch_openml('mnist_784')\n",
        "x = mnist.data\n",
        "y = mnist.target\n",
        "x_train, x_test=x[:60000],x[:60000]\n",
        "y_train, y_test=y[:60000],y[:60000]\n"
      ],
      "execution_count": 10,
      "outputs": []
    },
    {
      "cell_type": "code",
      "metadata": {
        "colab": {
          "base_uri": "https://localhost:8080/",
          "height": 248
        },
        "id": "ihs4dM6rAQRe",
        "outputId": "ebc1aaa2-0afa-4160-d13c-c3216cfe2496"
      },
      "source": [
        "import matplotlib\n",
        "import matplotlib.pyplot as plt\n",
        "some_digit=x_train[36000]\n",
        "some_digit_image=some_digit.reshape(28,28)\n",
        "plt.imshow(some_digit_image,cmap=matplotlib.cm.binary,interpolation='nearest')\n",
        "plt.axis('off')\n",
        "plt.show()"
      ],
      "execution_count": 11,
      "outputs": [
        {
          "output_type": "display_data",
          "data": {
            "image/png": "[encoded data removed]",
            "text/plain": [
              "<Figure size 432x288 with 1 Axes>"
            ]
          },
          "metadata": {
            "tags": [],
            "needs_background": "light"
          }
        }
      ]
    },
    {
      "cell_type": "code",
      "metadata": {
        "colab": {
          "base_uri": "https://localhost:8080/",
          "height": 35
        },
        "id": "35tUhB5zDld5",
        "outputId": "ed5b65ab-dc35-4bb1-8069-24880862aca7"
      },
      "source": [
        "y_train[36000]"
      ],
      "execution_count": 12,
      "outputs": [
        {
          "output_type": "execute_result",
          "data": {
            "application/vnd.google.colaboratory.intrinsic+json": {
              "type": "string"
            },
            "text/plain": [
              "'9'"
            ]
          },
          "metadata": {
            "tags": []
          },
          "execution_count": 12
        }
      ]
    },
    {
      "cell_type": "code",
      "metadata": {
        "id": "6mIv1OKGFqb1"
      },
      "source": [
        "import numpy as np\n",
        "shuffle_index=np.random.permutation(60000)\n",
        "x_train, y_train=x_train[shuffle_index],y_train[shuffle_index]\n",
        "y_train = y_train.astype(np.int8)\n",
        "\n"
      ],
      "execution_count": 13,
      "outputs": []
    },
    {
      "cell_type": "markdown",
      "metadata": {
        "id": "8xH6TaTIGRhp"
      },
      "source": [
        "Binary classifier\n"
      ]
    },
    {
      "cell_type": "code",
      "metadata": {
        "id": "gTjMzT2_GTfd"
      },
      "source": [
        "y_train_5=(y_train==5)\n",
        "y_test_5=(y_test==5)"
      ],
      "execution_count": 14,
      "outputs": []
    },
    {
      "cell_type": "markdown",
      "metadata": {
        "id": "7Ws9eRfCJ-FQ"
      },
      "source": [
        "Stochastic Gradient Descent"
      ]
    },
    {
      "cell_type": "code",
      "metadata": {
        "colab": {
          "base_uri": "https://localhost:8080/"
        },
        "id": "phakt0a8KB2z",
        "outputId": "dce30722-f215-4d29-c499-8a5ee0b2211a"
      },
      "source": [
        "from sklearn.linear_model import SGDClassifier\n",
        "sgd_clf=SGDClassifier(random_state=42)\n",
        "sgd_clf.fit(x_train,y_train_5)\n",
        "sgd_clf.predict([some_digit])"
      ],
      "execution_count": 15,
      "outputs": [
        {
          "output_type": "execute_result",
          "data": {
            "text/plain": [
              "array([False])"
            ]
          },
          "metadata": {
            "tags": []
          },
          "execution_count": 15
        }
      ]
    },
    {
      "cell_type": "code",
      "metadata": {
        "colab": {
          "base_uri": "https://localhost:8080/"
        },
        "id": "W4gIZhahvjei",
        "outputId": "577fe4ac-6aeb-4971-e304-820aa00cb70e"
      },
      "source": [
        "from sklearn.model_selection import cross_val_score\n",
        "cross_val_score(sgd_clf,x_train,y_train_5,cv=3,scoring=\"accuracy\")"
      ],
      "execution_count": 16,
      "outputs": [
        {
          "output_type": "execute_result",
          "data": {
            "text/plain": [
              "array([0.96785, 0.9577 , 0.90975])"
            ]
          },
          "metadata": {
            "tags": []
          },
          "execution_count": 16
        }
      ]
    },
    {
      "cell_type": "markdown",
      "metadata": {
        "id": "j32Ji7Pg2_PR"
      },
      "source": [
        "Confusion matrix\n"
      ]
    },
    {
      "cell_type": "code",
      "metadata": {
        "id": "rkE3FkFQ3CDD"
      },
      "source": [
        "from sklearn.model_selection import cross_val_predict\n",
        "y_train_pred=cross_val_predict(sgd_clf,x_train,y_train_5,cv=3)"
      ],
      "execution_count": 17,
      "outputs": []
    },
    {
      "cell_type": "code",
      "metadata": {
        "colab": {
          "base_uri": "https://localhost:8080/"
        },
        "id": "KnqnaP_54AkN",
        "outputId": "7aa353a7-8097-4776-fa95-6f11ffd81655"
      },
      "source": [
        "from sklearn.metrics import confusion_matrix\n",
        "confusion_matrix(y_train_5,y_train_pred)"
      ],
      "execution_count": 18,
      "outputs": [
        {
          "output_type": "execute_result",
          "data": {
            "text/plain": [
              "array([[52681,  1898],\n",
              "       [ 1396,  4025]])"
            ]
          },
          "metadata": {
            "tags": []
          },
          "execution_count": 18
        }
      ]
    },
    {
      "cell_type": "code",
      "metadata": {
        "colab": {
          "base_uri": "https://localhost:8080/"
        },
        "id": "COYHWJVd8qI5",
        "outputId": "05893c4b-012d-49bf-bbe0-abca631d8093"
      },
      "source": [
        "from sklearn.metrics import precision_score, recall_score, f1_score\n",
        "precision_score(y_train_5, y_train_pred)"
      ],
      "execution_count": 19,
      "outputs": [
        {
          "output_type": "execute_result",
          "data": {
            "text/plain": [
              "0.6795542799257133"
            ]
          },
          "metadata": {
            "tags": []
          },
          "execution_count": 19
        }
      ]
    },
    {
      "cell_type": "code",
      "metadata": {
        "colab": {
          "base_uri": "https://localhost:8080/"
        },
        "id": "9TYWEUGi-RKS",
        "outputId": "d326e471-f68c-4528-a0e8-722cd78596a7"
      },
      "source": [
        "recall_score(y_train_5, y_train_pred)"
      ],
      "execution_count": 20,
      "outputs": [
        {
          "output_type": "execute_result",
          "data": {
            "text/plain": [
              "0.7424829367275411"
            ]
          },
          "metadata": {
            "tags": []
          },
          "execution_count": 20
        }
      ]
    },
    {
      "cell_type": "code",
      "metadata": {
        "colab": {
          "base_uri": "https://localhost:8080/"
        },
        "id": "J0_1rOCd-y9M",
        "outputId": "4f0536f7-3646-4074-9cce-85413d478984"
      },
      "source": [
        "f1_score(y_train_5, y_train_pred)"
      ],
      "execution_count": 21,
      "outputs": [
        {
          "output_type": "execute_result",
          "data": {
            "text/plain": [
              "0.7096262341325811"
            ]
          },
          "metadata": {
            "tags": []
          },
          "execution_count": 21
        }
      ]
    },
    {
      "cell_type": "markdown",
      "metadata": {
        "id": "qpKGjvW-x_9N"
      },
      "source": [
        "Multinomial classifier"
      ]
    },
    {
      "cell_type": "code",
      "metadata": {
        "id": "FUdUWL6ZyHZu",
        "colab": {
          "base_uri": "https://localhost:8080/"
        },
        "outputId": "5020fb08-09db-4ff3-d265-689700a428d9"
      },
      "source": [
        "from sklearn.multiclass import OneVsOneClassifier\n",
        "ovo_clf=OneVsOneClassifier(SGDClassifier(random_state=42))\n",
        "ovo_clf.fit(x_train,y_train)\n",
        "ovo_clf.predict([some_digit])"
      ],
      "execution_count": 25,
      "outputs": [
        {
          "output_type": "execute_result",
          "data": {
            "text/plain": [
              "array([4], dtype=int8)"
            ]
          },
          "metadata": {
            "tags": []
          },
          "execution_count": 25
        }
      ]
    },
    {
      "cell_type": "code",
      "metadata": {
        "colab": {
          "base_uri": "https://localhost:8080/"
        },
        "id": "LQyHnJJeRHoA",
        "outputId": "f23e5f90-c1f1-4cdb-8996-08ab2841709e"
      },
      "source": [
        "len(ovo_clf.estimators_)"
      ],
      "execution_count": 27,
      "outputs": [
        {
          "output_type": "execute_result",
          "data": {
            "text/plain": [
              "45"
            ]
          },
          "metadata": {
            "tags": []
          },
          "execution_count": 27
        }
      ]
    },
    {
      "cell_type": "markdown",
      "metadata": {
        "id": "7DuAMGeTSxRC"
      },
      "source": [
        "KNN"
      ]
    },
    {
      "cell_type": "code",
      "metadata": {
        "colab": {
          "base_uri": "https://localhost:8080/"
        },
        "id": "EvME-FGrSyIv",
        "outputId": "76fcbd33-637e-4154-b39a-e08abd5ddd05"
      },
      "source": [
        "from sklearn.neighbors import KNeighborsClassifier\n",
        "y_train_large=(y_train>=7)\n",
        "y_train_odd=(y_train%2==1)\n",
        "y_multilabel=np.c_[y_train_large, y_train_odd]\n",
        "knn_clf=KNeighborsClassifier()\n",
        "knn_clf.fit(x_train,y_multilabel)\n",
        "knn_clf.predict([some_digit])"
      ],
      "execution_count": 33,
      "outputs": [
        {
          "output_type": "execute_result",
          "data": {
            "text/plain": [
              "array([[ True,  True]])"
            ]
          },
          "metadata": {
            "tags": []
          },
          "execution_count": 33
        }
      ]
    },
    {
      "cell_type": "code",
      "metadata": {
        "id": "rsQW-HBSSvvF"
      },
      "source": [
        ""
      ],
      "execution_count": null,
      "outputs": []
    }
  ]
}