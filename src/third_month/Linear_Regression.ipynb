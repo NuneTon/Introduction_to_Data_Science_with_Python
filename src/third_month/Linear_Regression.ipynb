{
  "nbformat": 4,
  "nbformat_minor": 0,
  "metadata": {
    "colab": {
      "name": "Linear_Regression.ipynb",
      "provenance": [],
      "collapsed_sections": []
    },
    "kernelspec": {
      "name": "python3",
      "display_name": "Python 3"
    },
    "language_info": {
      "name": "python"
    }
  },
  "cells": [
    {
      "cell_type": "code",
      "metadata": {
        "id": "ffLq-mZbsg1h"
      },
      "source": [
        "import numpy as np\n",
        "x=2*np.random.randn(100,1)\n",
        "y=4+3*x+np.random.randn(100,1)\n"
      ],
      "execution_count": 1,
      "outputs": []
    },
    {
      "cell_type": "markdown",
      "metadata": {
        "id": "sczoVcOezhio"
      },
      "source": [
        "Normal Equation"
      ]
    },
    {
      "cell_type": "code",
      "metadata": {
        "colab": {
          "base_uri": "https://localhost:8080/"
        },
        "id": "Z1cYiVwpzjG6",
        "outputId": "7c809527-9595-4158-b583-8509587028c1"
      },
      "source": [
        "x_b=np.c_[np.ones((100,1)),x] # adds x0=1 to each sample\n",
        "theta_best=np.linalg.inv(x_b.T.dot(x_b)).dot(x_b.T).dot(y)\n",
        "theta_best"
      ],
      "execution_count": 3,
      "outputs": [
        {
          "output_type": "execute_result",
          "data": {
            "text/plain": [
              "array([[4.1537341 ],\n",
              "       [2.97464011]])"
            ]
          },
          "metadata": {
            "tags": []
          },
          "execution_count": 3
        }
      ]
    },
    {
      "cell_type": "code",
      "metadata": {
        "colab": {
          "base_uri": "https://localhost:8080/"
        },
        "id": "OFz25-YP11zy",
        "outputId": "8bf133ab-db49-4ed9-e07c-5a7ca475016d"
      },
      "source": [
        "x_new=np.array([[0],[2]])\n",
        "x_new_b=np.c_[np.ones((2,1)),x_new]  # adds x0=1 to each sample\n",
        "x_new_b"
      ],
      "execution_count": 5,
      "outputs": [
        {
          "output_type": "execute_result",
          "data": {
            "text/plain": [
              "array([[1., 0.],\n",
              "       [1., 2.]])"
            ]
          },
          "metadata": {
            "tags": []
          },
          "execution_count": 5
        }
      ]
    },
    {
      "cell_type": "code",
      "metadata": {
        "id": "QZ4Swz7L2Vvl"
      },
      "source": [
        "y_predict=x_new_b.dot(theta_best)"
      ],
      "execution_count": 7,
      "outputs": []
    },
    {
      "cell_type": "code",
      "metadata": {
        "colab": {
          "base_uri": "https://localhost:8080/",
          "height": 265
        },
        "id": "K3r4xHv62lMS",
        "outputId": "4eff7807-df5a-4e9b-f931-26a8869fc1c4"
      },
      "source": [
        "import matplotlib.pyplot as plt\n",
        "plt.plot(x_new,y_predict,\"r-\")\n",
        "plt.plot(x,y,\"b.\")\n",
        "plt.axis([0,2,0,15])\n",
        "plt.show()"
      ],
      "execution_count": 9,
      "outputs": [
        {
          "output_type": "display_data",
          "data": {
            "image/png": "[encoded data removed]",
            "text/plain": [
              "<Figure size 432x288 with 1 Axes>"
            ]
          },
          "metadata": {
            "tags": [],
            "needs_background": "light"
          }
        }
      ]
    },
    {
      "cell_type": "code",
      "metadata": {
        "colab": {
          "base_uri": "https://localhost:8080/"
        },
        "id": "WeltvRI63Oaa",
        "outputId": "5762c825-3711-4a2a-935e-8ffd4b976755"
      },
      "source": [
        "from sklearn.linear_model import LinearRegression\n",
        "lin_reg=LinearRegression()\n",
        "lin_reg.fit(x,y)\n",
        "lin_reg.intercept_, lin_reg.coef_"
      ],
      "execution_count": 10,
      "outputs": [
        {
          "output_type": "execute_result",
          "data": {
            "text/plain": [
              "(array([4.1537341]), array([[2.97464011]]))"
            ]
          },
          "metadata": {
            "tags": []
          },
          "execution_count": 10
        }
      ]
    },
    {
      "cell_type": "code",
      "metadata": {
        "colab": {
          "base_uri": "https://localhost:8080/"
        },
        "id": "Uo9WyMJu3pJ8",
        "outputId": "cd4ee6f1-591c-47d9-838e-967a8bbcdc56"
      },
      "source": [
        "lin_reg.predict(x_new)"
      ],
      "execution_count": 11,
      "outputs": [
        {
          "output_type": "execute_result",
          "data": {
            "text/plain": [
              "array([[ 4.1537341 ],\n",
              "       [10.10301433]])"
            ]
          },
          "metadata": {
            "tags": []
          },
          "execution_count": 11
        }
      ]
    }
  ]
}